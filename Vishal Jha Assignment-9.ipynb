{
 "cells": [
  {
   "cell_type": "code",
   "execution_count": 3,
   "id": "0715e1e8-eb72-46ae-ae14-afd4c2c4fd8c",
   "metadata": {},
   "outputs": [
    {
     "name": "stdout",
     "output_type": "stream",
     "text": [
      "Invalid animal\n",
      "Bark\n",
      "Meow\n"
     ]
    }
   ],
   "source": [
    "#1. What is Abstraction in OOps? Explain with an example\n",
    "\n",
    "#Ans\n",
    "\n",
    "#In Python, Abstraction in OOPs can be achieved using abstract classes and interfaces.An abstract class is a class that cannot be instantiated and is meant to serve as a base class for other classes to inherit from. It can contain both abstract and non-abstract methods. An abstract method is a method that has no implementation and is meant to be implemented by the subclass. Abstract classes can be defined using the abc module in Python.\n",
    "\n",
    "#Example\n",
    "\n",
    "from abc import ABC, abstractmethod\n",
    "class Animal(ABC):\n",
    "    def make_sound(self):\n",
    "        pass\n",
    "class Dog(Animal):\n",
    "    def make_sound(self):\n",
    "        print(\"Bark\")\n",
    "class Cat(Animal):\n",
    "    def make_sound(self):\n",
    "        print(\"Meow\")\n",
    "class Zoo:\n",
    "    def __init__(self):\n",
    "        self.animals = []\n",
    "    def add_animal(self, animal):\n",
    "        if isinstance(animal, Animal):\n",
    "            self.animals.append(animal)\n",
    "        else:\n",
    "            print(\"Invalid animal\")\n",
    "    def show_animals(self):\n",
    "        for animal in self.animals:\n",
    "            animal.make_sound()\n",
    "zoo = Zoo()\n",
    "dog = Dog()\n",
    "cat = Cat()\n",
    "lion = \"Lion\"\n",
    "zoo.add_animal(dog)\n",
    "zoo.add_animal(cat)\n",
    "zoo.add_animal(lion)\n",
    "zoo.show_animals()"
   ]
  },
  {
   "cell_type": "code",
   "execution_count": 4,
   "id": "d9650d5e-38de-4521-8415-d733d6374555",
   "metadata": {},
   "outputs": [
    {
     "name": "stdout",
     "output_type": "stream",
     "text": [
      "78.5\n",
      "49\n"
     ]
    }
   ],
   "source": [
    "#2. Differentiate between Abstraction and Encapsulation. Explain with an example\n",
    "\n",
    "#Ans \n",
    "\n",
    "#Abstraction is the process of simplifying complex ideas by hiding unnecessary details and focusing only on essential features. It is a way to create a high-level view of a system that allows users to interact with it without having to understand the underlying details of how it works. In OOP, abstraction is achieved using abstract classes, interfaces, and other mechanisms that allow developers to define common behaviors and characteristics for a group of objects without having to implement them directly.\n",
    "\n",
    "#Encapsulation, on the other hand, is a mechanism that groups related data and behavior into a single unit, called a class. It is a way to protect data and prevent unauthorized access or modification by hiding the implementation details from the outside world. Encapsulation is achieved in OOP by defining class properties and methods with different levels of visibility, such as public, private, and protected, and providing access to them through well-defined interfaces.\n",
    "\n",
    "#Example of Abstraction \n",
    "\n",
    "from abc import ABC, abstractmethod\n",
    "class Shape(ABC):\n",
    "    def area(self):\n",
    "        pass\n",
    "class Circle(Shape):\n",
    "    def __init__(self, radius):\n",
    "        self.radius = radius\n",
    "    def area(self):\n",
    "        return 3.14 * self.radius ** 2\n",
    "class Square(Shape):\n",
    "    def __init__(self, side):\n",
    "        self.side = side\n",
    "    def area(self):\n",
    "        return self.side ** 2\n",
    "shapes = [Circle(5), Square(7)]\n",
    "for shape in shapes:\n",
    "    print(shape.area())"
   ]
  },
  {
   "cell_type": "code",
   "execution_count": 5,
   "id": "799bc42d-aa70-4433-9d25-92ad9ca9190f",
   "metadata": {},
   "outputs": [
    {
     "name": "stdout",
     "output_type": "stream",
     "text": [
      "1000\n",
      "500\n",
      "1500\n",
      "1500\n"
     ]
    }
   ],
   "source": [
    "#Example of Encapsulation\n",
    "\n",
    "class BankAccount:\n",
    "    def __init__(self, balance):\n",
    "        self._balance = balance\n",
    "    def deposit(self, amount):\n",
    "        self._balance += amount\n",
    "    def withdraw(self, amount):\n",
    "        if self._balance >= amount:\n",
    "            self._balance -= amount\n",
    "        else:\n",
    "            print(\"Insufficient balance\")\n",
    "    def get_balance(self):\n",
    "        return self._balance\n",
    "account = BankAccount(1000)\n",
    "print(account.get_balance()) # 1000\n",
    "account.withdraw(500)\n",
    "print(account.get_balance()) # 500\n",
    "account.deposit(1000)\n",
    "print(account.get_balance()) # 1500\n",
    "print(account._balance) # 1500 (direct access to the private variable)"
   ]
  },
  {
   "cell_type": "code",
   "execution_count": 6,
   "id": "bd0fc938-99c9-443e-aeea-a0cdc28e1aa5",
   "metadata": {},
   "outputs": [],
   "source": [
    "#3. What is abc module in python? Why is it used?\n",
    "\n",
    "#Ans\n",
    "\n",
    "#The abc module in Python stands for \"Abstract Base Classes\". It provides the infrastructure for defining abstract base classes (ABCs) in Python.\n",
    "\n",
    "#An abstract base class is a class that cannot be instantiated directly but is meant to be subclassed by other classes. Abstract base classes define a common interface for a group of subclasses and allow for polymorphism and code reuse in a similar way to interfaces in other programming languages. They are used to provide a common API to a set of concrete classes, without necessarily defining the implementation details for those classes.\n",
    "\n",
    "#The abc module provides a way to define abstract base classes using the ABC metaclass and the abstractmethod decorator. The abstractmethod decorator is used to mark a method as abstract, meaning that it must be implemented by any subclass of the abstract base class.\n"
   ]
  },
  {
   "cell_type": "code",
   "execution_count": 7,
   "id": "84bf4359-3549-4598-9beb-644d74be8b66",
   "metadata": {},
   "outputs": [],
   "source": [
    "#4. How can we achieve data abstraction?\n",
    "\n",
    "#Ans\n",
    "\n",
    "#Data abstraction is a fundamental concept in object-oriented programming that allows you to hide the complexity of data structures and operations by providing a simple and high-level interface. In Python, you can achieve data abstraction through the use of classes and objects.\n",
    "\n",
    "#Here are the steps to achieve data abstraction in Python:\n",
    "\n",
    "# 1. Define a class: A class is a blueprint for creating objects that encapsulates data and behavior. Define a class that represents the abstract data type you want to create.\n",
    "\n",
    "# 2. Define methods: Define methods that provide an interface to the data. These methods should be responsible for accessing or modifying the data in a controlled manner.\n",
    "\n",
    "# 3. Use access modifiers: Use access modifiers such as public, private, and protected to control the visibility of data and methods. In Python, you can use underscore (_) to indicate a private attribute or method.\n",
    "\n",
    "# 4. Create objects: Create objects of the class to use the methods defined."
   ]
  },
  {
   "cell_type": "code",
   "execution_count": 9,
   "id": "8129754b-5685-4db8-ab4b-c50d3961c847",
   "metadata": {},
   "outputs": [],
   "source": [
    "#5. Can we create an instance of an abstract class? Explain your answer.\n",
    "\n",
    "#Ans\n",
    "\n",
    "#No, we cannot create an instance of an abstract class in Python. An abstract class is a class that is meant to be a blueprint for other classes, and it cannot be instantiated directly.\n",
    "\n",
    "#In Python, we can define an abstract class using the abc module. This module provides the ABC (Abstract Base Class) class, which we can use as a base class for defining abstract classes. An abstract class can have abstract methods, which are declared using the @abstractmethod decorator. These abstract methods do not have an implementation in the abstract class and must be implemented in the subclass."
   ]
  },
  {
   "cell_type": "code",
   "execution_count": null,
   "id": "7b5b5d76-6604-4d65-9456-71c7dea1adfc",
   "metadata": {},
   "outputs": [],
   "source": []
  }
 ],
 "metadata": {
  "kernelspec": {
   "display_name": "Python 3 (ipykernel)",
   "language": "python",
   "name": "python3"
  },
  "language_info": {
   "codemirror_mode": {
    "name": "ipython",
    "version": 3
   },
   "file_extension": ".py",
   "mimetype": "text/x-python",
   "name": "python",
   "nbconvert_exporter": "python",
   "pygments_lexer": "ipython3",
   "version": "3.10.8"
  }
 },
 "nbformat": 4,
 "nbformat_minor": 5
}
